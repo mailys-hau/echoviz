{
 "cells": [
  {
   "cell_type": "markdown",
   "id": "8cc1211e-812d-4634-bd46-d40370a18444",
   "metadata": {},
   "source": [
    "<center><h1>Let's see how beautiful those plots are</h1></center>\n",
    "\n",
    "Here are examples of all available plot functions, and what they can do. Several types of plots are implemented:\n",
    "- 2D slices of a voxel grid\n",
    "    - Plot one 2D slice\n",
    "    - Plot the same 2D slice for several voxel grids (usually a sequence)\n",
    "    - Plot all the slices (along one axis) of one voxel grid\n",
    "- 3D plots\n",
    "    - Interactive 3D plot of a voxel grid\n",
    "    - Screenshot of 3D interactive plot\n",
    "    - Plot interactive 3D for several voxel grids (as animation)\n",
    "\n",
    "For all 3D plots, you can choose too (input, target, and prediction being voxel grids):\n",
    "- Plot a target/label over the input\n",
    "- Plot a prediction over the input\n",
    "- (Plot both but that's hard to read)\n",
    "- Plot the SDF between prediction and target (optionally over the input)\n",
    "- Plot the ASD (=surface distance) between prediction and target (optionally over the input)\n",
    "\n",
    "\n",
    "By default, predictions are plotted as a heatmap, using its intensity, but you can pass an optional threshold to plot everything above it in one unique color.\n",
    "\n",
    "Annotations and predictions **must** be given as **dictionaries** such as `{\"class_name\": class_values, ...}`, if there are only two classes, true or false, just give `{\"all\": values}`. (The keys are used to determine which colorscale to use while plotting).\n",
    "\n",
    "Every plot can be saved and/or displayed except GIF, which can only be saved. Interactive 3D et 4D plots are saved as HTML files, images are saved as PNG."
   ]
  },
  {
   "cell_type": "code",
   "execution_count": null,
   "id": "d69b7b98-21f3-4a19-bf6e-7ca689ecb72d",
   "metadata": {},
   "outputs": [],
   "source": [
    "%load_ext autoreload"
   ]
  },
  {
   "cell_type": "code",
   "execution_count": null,
   "id": "9943c5dd-508b-4df2-b8f3-da9a2e7ec09a",
   "metadata": {},
   "outputs": [],
   "source": [
    "from datetime import timedelta\n",
    "from pathlib import Path\n",
    "import random as rd\n",
    "from time import time"
   ]
  },
  {
   "cell_type": "code",
   "execution_count": null,
   "id": "05624a33-f0b0-40b3-8877-cb61340623ff",
   "metadata": {},
   "outputs": [],
   "source": [
    "# Reload any changed modules without killing the kernel\n",
    "%autoreload\n",
    "\n",
    "import echoviz as ecv\n",
    "\n",
    "from test_utils import load_file"
   ]
  },
  {
   "cell_type": "code",
   "execution_count": null,
   "id": "4f896cb2-10e2-4896-afd4-ca3ed0a60bb8",
   "metadata": {},
   "outputs": [],
   "source": [
    "# Load some files first\n",
    "proot = Path(\"~/Documents/outputs/debug-echoviz\").expanduser()\n",
    "fname = proot.joinpath(\"<filename>.h5\")\n",
    "\n",
    "vminps, vmtgs, vmpreds = load_file(fname.with_stem(fname.stem + \"_multi_seq\")) # Multi segmentation (anterior / posterior)\n",
    "vbinps, vbtgs, vbpreds = load_file(fname.with_stem(fname.stem + \"_bin_seq\")) #  Binary segmentation (valve as a whole)\n",
    "\n",
    "frame = rd.randint(0, len(vminps) - 1)\n",
    "print\n",
    "# Select one frame for some plots\n",
    "single_vminps, single_vbinps = vminps[frame], vbinps[frame]\n",
    "single_vmtgs, single_vbtgs = {k: v[frame] for k, v in vmtgs.items()}, {k: v[frame] for k, v in vbtgs.items()}\n",
    "single_vmpreds, single_vbpreds = {k: v[frame] for k, v in vmpreds.items()}, {k: v[frame] for k, v in vbpreds.items()}"
   ]
  },
  {
   "cell_type": "markdown",
   "id": "124a640d-1d89-4c58-9587-b968a9604659",
   "metadata": {},
   "source": [
    "## 2D plots\n",
    "\n",
    "You can represent any slice of a given volume, along the desired axis."
   ]
  },
  {
   "cell_type": "code",
   "execution_count": null,
   "id": "f99b5c07-f68e-42cd-8345-197364409c17",
   "metadata": {
    "scrolled": true,
    "tags": []
   },
   "outputs": [],
   "source": [
    "start = time()\n",
    "ecv.plot_slice(single_vminps, single_vmtgs, 60, axis=0, plot_input=False, title=f\"Labels on input, frame {frame +1}\")\n",
    "end = time()\n",
    "print(timedelta(seconds=(end - start)))\n",
    "\n",
    "start = time()\n",
    "ecv.plot_slice(single_vminps, single_vmtgs, 60, title=f\"Input & Labels, frame {frame + 1}\")\n",
    "end = time()\n",
    "print(timedelta(seconds=(end - start)))\n",
    "\n",
    "start = time()\n",
    "ecv.plot_slice(single_vbinps, single_vbtgs, 85, axis=2, vpreds=single_vbpreds, title=f\"Input, labels & predictions, frame {frame + 1}\")\n",
    "end = time()\n",
    "print(timedelta(seconds=(end - start)))\n",
    "\n",
    "start = time()\n",
    "ecv.plot_slice(single_vbinps, single_vbtgs, 60, vpreds=single_vbpreds, plot_input=False, threshold=0.5, title=f\"Labels on input & predictions, frame {frame + 1}\")\n",
    "end = time()\n",
    "print(timedelta(seconds=(end - start)))"
   ]
  },
  {
   "cell_type": "markdown",
   "id": "f399239b-730d-42b8-9b64-b7790b9e6d3c",
   "metadata": {},
   "source": [
    "## 3D plots\n",
    "\n",
    "Two mode are available, interactive (you can rotate the volume) and static, which is a screenshot of the interactive mode in it's default viewpoint."
   ]
  },
  {
   "cell_type": "code",
   "execution_count": null,
   "id": "6dc77715-fadd-407b-bb5b-4892a34b80f4",
   "metadata": {
    "scrolled": true,
    "tags": []
   },
   "outputs": [],
   "source": [
    "start = time()\n",
    "ecv.interactive_3d(single_vminps, title=f\"Input, frame {frame + 1}\")\n",
    "end = time()\n",
    "print(timedelta(seconds=(end - start)))\n",
    "\n",
    "start = time()\n",
    "ecv.interactive_3d(single_vbinps, single_vbtgs, title=f\"Input & labels, frame {frame + 1}\")\n",
    "end = time()\n",
    "print(timedelta(seconds=(end - start)))\n",
    "\n",
    "start = time()\n",
    "ecv.interactive_3d(single_vminps, vpreds=single_vmpreds, title=f\"Input & predictions, frame {frame + 1}\")\n",
    "end = time()\n",
    "print(timedelta(seconds=(end - start)))\n",
    "\n",
    "start = time()\n",
    "ecv.interactive_3d(single_vbinps, vlabels=single_vbtgs, vpreds=single_vbpreds, threshold=0.5, title=f\"Input, labels & predictions, frame {frame + 1}\")\n",
    "end = time()\n",
    "print(timedelta(seconds=(end - start)))"
   ]
  },
  {
   "cell_type": "code",
   "execution_count": null,
   "id": "358d908b-443a-4f93-9175-07716c1fd756",
   "metadata": {
    "scrolled": true,
    "tags": []
   },
   "outputs": [],
   "source": [
    "start = time()\n",
    "ecv.static_3d(single_vbinps, title=f\"Input, frame {frame + 1}\")\n",
    "end = time()\n",
    "print(timedelta(seconds=(end - start)))\n",
    "\n",
    "start = time()\n",
    "ecv.static_3d(single_vminps, single_vmtgs, title=f\"Input & labels, frame {frame + 1}\")\n",
    "end = time()\n",
    "print(timedelta(seconds=(end - start)))\n",
    "\n",
    "start = time()\n",
    "ecv.static_3d(single_vbinps, vpreds=single_vbpreds, title=f\"Input & predictions, frame {frame + 1}\")\n",
    "end = time()\n",
    "print(timedelta(seconds=(end - start)))\n",
    "\n",
    "start = time()\n",
    "ecv.static_3d(single_vminps, vlabels=single_vmtgs, vpreds=single_vmpreds, threshold=0.5, title=f\"Input, labels & predictions, frame {frame + 1}\")\n",
    "end = time()\n",
    "print(timedelta(seconds=(end - start)))"
   ]
  },
  {
   "cell_type": "markdown",
   "id": "1b4f4ed0-eeed-49f1-bd92-43c774eafbaf",
   "metadata": {},
   "source": [
    "## Animations\n",
    "\n",
    "2D animations allow you to look at a sliced volume (see 2D plots). You can either look at the same slice over all the volume in one sequence, or look at all the slices (given an axis) of one volume.\n",
    "\n",
    "3D animation is an interractive 3D plots of all the volumes in a sequence. You can pause the animation and slide the frame at your\n",
    "convenience."
   ]
  },
  {
   "cell_type": "code",
   "execution_count": null,
   "id": "d543f460-6285-40af-8f45-85cf88ef68d5",
   "metadata": {},
   "outputs": [],
   "source": [
    "start = time()\n",
    "ecv.sliced_sequence(vminps, vmtgs, 60, title=\"Input\")\n",
    "end = time()\n",
    "print(timedelta(seconds=(end - start)))\n",
    "\n",
    "start = time()\n",
    "ecv.sliced_sequence(vbinps, vbtgs, 60, title=\"Input & labels\")\n",
    "end = time()\n",
    "print(timedelta(seconds=(end - start)))\n",
    "\n",
    "start = time()\n",
    "ecv.sliced_sequence(vbinps, vbtgs, 60, vpreds=vbpreds, axis=1, title=\"Input & predictions\")\n",
    "end = time()\n",
    "print(timedelta(seconds=(end - start)))\n",
    "\n",
    "start = time()\n",
    "ecv.sliced_sequence(vminps, vmtgs, 60, vpreds=vmpreds, threshold=0.5, title=\"Input, labels & predictions\")\n",
    "end = time()\n",
    "print(timedelta(seconds=(end - start)))"
   ]
  },
  {
   "cell_type": "code",
   "execution_count": null,
   "id": "6d7bbbd2-58fa-4747-ae1a-0690c5bb3a97",
   "metadata": {},
   "outputs": [],
   "source": [
    "start = time()\n",
    "ecv.sliced_volume(single_vbinps, single_vbtgs, title=f\"Input, frame {frame + 1}\")\n",
    "end = time()\n",
    "print(timedelta(seconds=(end - start)))\n",
    "\n",
    "start = time()\n",
    "ecv.sliced_volume(single_vminps, single_vmtgs, title=f\"Input & labels, frame {frame + 1}\")\n",
    "end = time()\n",
    "print(timedelta(seconds=(end - start)))\n",
    "\n",
    "start = time()\n",
    "ecv.sliced_volume(single_vbinps, single_vbtgs, vpreds=single_vbpreds, title=f\"Input & predictions, frame {frame + 1}\")\n",
    "end = time()\n",
    "print(timedelta(seconds=(end - start)))\n",
    "\n",
    "start = time()\n",
    "ecv.sliced_volume(single_vminps, single_vmtgs, vpreds=single_vmpreds, title=f\"Input, labels & predictions, frame {frame + 1}\")\n",
    "end = time()\n",
    "print(timedelta(seconds=(end - start)))"
   ]
  },
  {
   "cell_type": "code",
   "execution_count": null,
   "id": "1dd01333-f5d7-4f9b-b571-c371d6632e17",
   "metadata": {
    "scrolled": true,
    "tags": []
   },
   "outputs": [],
   "source": [
    "start = time()\n",
    "ecv.animated_3d(vbinps, title=\"Input\")\n",
    "end = time()\n",
    "print(timedelta(seconds=(end - start)))\n",
    "\n",
    "start = time()\n",
    "ecv.animated_3d(vminps, vlabels=vmtgs, title=\"Input & labels\")\n",
    "end = time()\n",
    "print(timedelta(seconds=(end - start)))\n",
    "\n",
    "start = time()\n",
    "ecv.animated_3d(vbinps, vpreds=vbpreds, title=\"Input & predictions\")\n",
    "end = time()\n",
    "print(timedelta(seconds=(end - start)))\n",
    "\n",
    "start = time()\n",
    "ecv.animated_3d(vminps, vlabels=vmtgs, vpreds=vmpreds, threshold=0.5, title=\"Input, labels & predictions\")\n",
    "end = time()\n",
    "print(timedelta(seconds=(end - start)))"
   ]
  },
  {
   "cell_type": "markdown",
   "id": "8b40a8c6-6a52-4512-9c0f-e4a326dfeda7",
   "metadata": {},
   "source": [
    "## Distances\n",
    "\n",
    "SDF is the signed distance between the target and prediction, with a negative value if the prediction is **outside** the target. ASD is the absolute value of the SDF."
   ]
  },
  {
   "cell_type": "code",
   "execution_count": null,
   "id": "5857a63d-0d69-48c2-9dce-358941199c52",
   "metadata": {
    "scrolled": true
   },
   "outputs": [],
   "source": [
    "start = time()\n",
    "ecv.sdf_static_3d(single_vbtgs, single_vbpreds, vinputs=single_vbinps, title=f\"SDF (m) & input, frame {frame}\")\n",
    "end = time()\n",
    "print(timedelta(seconds=(end - start)))\n",
    "\n",
    "start = time()\n",
    "ecv.sdf_interactive_3d(single_vmtgs, single_vmpreds, title=f\"SDF (m), frame {frame}\")\n",
    "end = time()\n",
    "print(timedelta(seconds=(end - start)))\n",
    "\n",
    "start = time()\n",
    "ecv.sdf_animated_3d(vmtgs, vmpreds, vinputs=vminps, title=f\"SDF (m) & input\")\n",
    "end = time()\n",
    "print(timedelta(seconds=(end - start)))"
   ]
  },
  {
   "cell_type": "code",
   "execution_count": null,
   "id": "de054c2e-36fe-4b66-ae4f-2c6a156f733e",
   "metadata": {
    "scrolled": true
   },
   "outputs": [],
   "source": [
    "start = time()\n",
    "ecv.asd_static_3d(single_vmtgs, single_vmpreds, title=f\"ASD (m) & input, frame {frame}\")\n",
    "end = time()\n",
    "print(timedelta(seconds=(end - start)))\n",
    "\n",
    "start = time()\n",
    "ecv.asd_interactive_3d(single_vbtgs, single_vbpreds, vinputs=single_vbinps, title=f\"ASD (m), frame {frame}\")\n",
    "end = time()\n",
    "print(timedelta(seconds=(end - start)))\n",
    "\n",
    "start = time()\n",
    "ecv.asd_animated_3d(vbtgs, vbpreds, title=f\"ASD (m) & input\")\n",
    "end = time()\n",
    "print(timedelta(seconds=(end - start)))"
   ]
  },
  {
   "cell_type": "markdown",
   "id": "2638520a-35a2-4daa-9b97-fd032a75380b",
   "metadata": {},
   "source": [
    "Glad to have done business with you."
   ]
  }
 ],
 "metadata": {
  "kernelspec": {
   "display_name": "Python 3 (ipykernel)",
   "language": "python",
   "name": "python3"
  },
  "language_info": {
   "codemirror_mode": {
    "name": "ipython",
    "version": 3
   },
   "file_extension": ".py",
   "mimetype": "text/x-python",
   "name": "python",
   "nbconvert_exporter": "python",
   "pygments_lexer": "ipython3",
   "version": "3.9.17"
  }
 },
 "nbformat": 4,
 "nbformat_minor": 5
}
