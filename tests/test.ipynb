{
 "cells": [
  {
   "cell_type": "markdown",
   "id": "8cc1211e-812d-4634-bd46-d40370a18444",
   "metadata": {},
   "source": [
    "<center><h1>Let's see how beautiful those plots are</h1></center>\n",
    "\n",
    "All plots allowed for displaying annotations and/or predictions over inputs (mandatory). If a threshold is given, the predictions will be display as a binary map. Annotations are assumed to be binary (0 or 1).\n",
    "\n",
    "Annotations and predictions **must** be given as **dictionnaries** such as `{\"class_name\": class_values, ...}`, if there is only two classes, true or false, just give `{\"all\": values}`. (The keys are used to determine which colorscale to use while plotting).\n",
    "\n",
    "Every plot can be saved and/or displayed except GIF, that can only be saved. Interractive 3D et 4D plots are saved as HTML files."
   ]
  },
  {
   "cell_type": "code",
   "execution_count": null,
   "id": "d69b7b98-21f3-4a19-bf6e-7ca689ecb72d",
   "metadata": {},
   "outputs": [],
   "source": [
    "%load_ext autoreload"
   ]
  },
  {
   "cell_type": "code",
   "execution_count": null,
   "id": "9943c5dd-508b-4df2-b8f3-da9a2e7ec09a",
   "metadata": {},
   "outputs": [],
   "source": [
    "import h5py\n",
    "\n",
    "from datetime import timedelta\n",
    "from pathlib import Path\n",
    "from time import time"
   ]
  },
  {
   "cell_type": "code",
   "execution_count": null,
   "id": "05624a33-f0b0-40b3-8877-cb61340623ff",
   "metadata": {},
   "outputs": [],
   "source": [
    "# Reload any changed modules without killing kernel\n",
    "%autoreload\n",
    "\n",
    "from echoviz import (interactive_3d, animated_3d, static_3d,\n",
    "                     plot_slice, sliced_sequence, sliced_volume,\n",
    "                     VoxelGrid)  "
   ]
  },
  {
   "cell_type": "code",
   "execution_count": null,
   "id": "4f896cb2-10e2-4896-afd4-ca3ed0a60bb8",
   "metadata": {},
   "outputs": [],
   "source": [
    "# Load some files first\n",
    "pinput = Path(\"~/Documents/data/GE_subset/20150624151535_FMR.h5\").expanduser()\n",
    "ppred = Path(\"~/Documents/outputs/3dmv-segmentation/equi-loss/20150624151535_FMR.h5\").expanduser()\n",
    "\n",
    "ih5 = h5py.File(pinput, 'r')\n",
    "ph5 = h5py.File(ppred, 'r')\n",
    "\n",
    "# Additional info to plot voxels\n",
    "h5spacing = ih5[\"ImageGeometry\"][\"voxelsize\"][()]\n",
    "origin = ih5[\"ImageGeometry\"][\"origin\"][()]\n",
    "directions = ih5[\"ImageGeometry\"][\"directions\"][()]\n",
    "fnb = ih5[\"ImageGeometry\"][\"frameNumber\"][()]\n",
    "vinputs = [] # Inputs\n",
    "vants, vposts = [], [] # Labels\n",
    "vpreds = [] # Predictions\n",
    "for i in range(1, fnb):\n",
    "    h5vol = ih5[\"CartesianVolumes\"][f\"vol{i:02d}\"][()]\n",
    "    vinputs.append(VoxelGrid(h5vol, origin, directions, h5spacing))\n",
    "    ant = ih5[\"Labels\"][f\"ant{i:02d}\"][()]\n",
    "    vants.append(VoxelGrid(ant, origin, directions, h5spacing))\n",
    "    post = ih5[\"Labels\"][f\"post{i:02d}\"][()]\n",
    "    vposts.append(VoxelGrid(post, origin, directions, h5spacing))\n",
    "    pred = ph5[\"Predictions\"][f\"vol{i:02}\"][()]\n",
    "    vpreds.append(VoxelGrid(pred, origin, directions, h5spacing))\n",
    "ih5.close()\n",
    "ph5.close()"
   ]
  },
  {
   "cell_type": "markdown",
   "id": "124a640d-1d89-4c58-9587-b968a9604659",
   "metadata": {},
   "source": [
    "## 2D plots\n",
    "\n",
    "You can represent any slice of a given volume, along the desired axis."
   ]
  },
  {
   "cell_type": "code",
   "execution_count": null,
   "id": "f99b5c07-f68e-42cd-8345-197364409c17",
   "metadata": {
    "tags": []
   },
   "outputs": [],
   "source": [
    "start = time()\n",
    "#plot_slice(vinputs[0], {\"anterior\": vants[0], \"posterior\": vposts[0]},\n",
    "#           120, plot_input=False, title=\"Labels on input\")\n",
    "end = time()\n",
    "#print(timedelta(seconds=(end - start)))\n",
    "\n",
    "start = time()\n",
    "plot_slice(vinputs[0], {\"anterior\": vants[0], \"posterior\": vposts[0]},\n",
    "           120, title=\"Input & labels\")\n",
    "end = time()\n",
    "print(timedelta(seconds=(end - start)))\n",
    "\n",
    "start = time()\n",
    "plot_slice(vinputs[0], {\"anterior\": vants[0], \"posterior\": vposts[0]},\n",
    "           120, 2, vpreds={\"all\": vpreds[0]}, title=\"Input, labels & predictions\")\n",
    "end = time()\n",
    "print(timedelta(seconds=(end - start)))\n",
    "\n",
    "start = time()\n",
    "#plot_slice(vinputs[0], {\"anterior\": vants[0], \"posterior\": vposts[0]},\n",
    "#           120, vpredictions={\"all\": vpreds[0]}, plot_input=False, threshold=0.5,\n",
    "#           title=\"Labels on input & predictions\")\n",
    "end = time()\n",
    "#print(timedelta(seconds=(end - start)))"
   ]
  },
  {
   "cell_type": "markdown",
   "id": "f399239b-730d-42b8-9b64-b7790b9e6d3c",
   "metadata": {},
   "source": [
    "## 3D plots\n",
    "\n",
    "Two mode are available, interactive (you can rotate the volume) and static, which is a screenshot of the interactive mode in it's default viewpoint."
   ]
  },
  {
   "cell_type": "code",
   "execution_count": null,
   "id": "6dc77715-fadd-407b-bb5b-4892a34b80f4",
   "metadata": {
    "tags": []
   },
   "outputs": [],
   "source": [
    "start = time()\n",
    "#interactive_3d(vinputs[-1],\n",
    "#               title=\"Input\")\n",
    "end = time()\n",
    "#print(timedelta(seconds=(end - start)))\n",
    "\n",
    "start = time()\n",
    "interactive_3d(vinputs[-1], vlabels={\"anterior\": vants[-1], \"posterior\": vposts[-1]},\n",
    "               title=\"Input & labels\")\n",
    "end = time()\n",
    "print(timedelta(seconds=(end - start)))\n",
    "\n",
    "start = time()\n",
    "#interactive_3d(vinputs[-1], vpreds={\"all\": vpreds[0]},\n",
    "#               title=\"Input & predictions\")\n",
    "end = time()\n",
    "#print(timedelta(seconds=(end - start)))\n",
    "\n",
    "start = time()\n",
    "#interactive_3d(vinputs[-1], vlabels={\"anterior\": vants[-1], \"posterior\": vposts[-1]},\n",
    "#               vpreds={\"all\": vpreds[0]}, mode=\"bmap\",\n",
    "#               title=\"Input, labels & predictions\")\n",
    "end = time()\n",
    "#print(timedelta(seconds=(end - start)))"
   ]
  },
  {
   "cell_type": "code",
   "execution_count": null,
   "id": "358d908b-443a-4f93-9175-07716c1fd756",
   "metadata": {
    "tags": []
   },
   "outputs": [],
   "source": [
    "start = time()\n",
    "#static_3d(vinputs[-1], title=\"Input\")\n",
    "end = time()\n",
    "#print(timedelta(seconds=(end - start)))\n",
    "\n",
    "start = time()\n",
    "#static_3d(vinputs[-1], vlabels={\"anterior\": vants[-1], \"posterior\": vposts[-1]},\n",
    "#          title=\"Input & labels\")\n",
    "end = time()\n",
    "#print(timedelta(seconds=(end - start)))\n",
    "\n",
    "start = time()\n",
    "static_3d(vinputs[-1], vpreds={\"all\": vpreds[-1]},\n",
    "          title=\"Input & predictions\")\n",
    "end = time()\n",
    "print(timedelta(seconds=(end - start)))\n",
    "\n",
    "start = time()\n",
    "#static_3d(vinputs[-1], vlabels={\"anterior\": vants[-1], \"posterior\": vposts[-1]},\n",
    "#          vpreds={\"all\": vpreds[-1]},\n",
    "#          title=\"Input, labels & predictions\")\n",
    "end = time()\n",
    "#print(timedelta(seconds=(end - start)))"
   ]
  },
  {
   "cell_type": "markdown",
   "id": "1b4f4ed0-eeed-49f1-bd92-43c774eafbaf",
   "metadata": {},
   "source": [
    "## Animations\n",
    "\n",
    "2D animations allow you to look at a sliced volume (see 2D plots). You can either look at the same slice over all the volume in one sequence, or look at all the slices (given an axis) of one volume.\n",
    "\n",
    "3D animation is an interractive 3D plots of all the volumes in a sequence. You can pause the animation and slide the frame at your\n",
    "convenience."
   ]
  },
  {
   "cell_type": "code",
   "execution_count": null,
   "id": "d543f460-6285-40af-8f45-85cf88ef68d5",
   "metadata": {},
   "outputs": [],
   "source": [
    "start = time()\n",
    "#sliced_sequence(vinputs, vlabels, 120, title=\"Input\")\n",
    "end = time()\n",
    "#print(timedelta(seconds=(end - start)))\n",
    "\n",
    "start = time()\n",
    "#sliced_sequence(vinputs, {\"anterior\": vants, \"posterior\": vposts},\n",
    "#                120, title=\"Input & labels\")\n",
    "end = time()\n",
    "#print(timedelta(seconds=(end - start)))\n",
    "\n",
    "start = time()\n",
    "#sliced_sequence(vinputs, vpreds={\"all\": vpreds},\n",
    "#                120, title=\"Input & predictions\")\n",
    "end = time()\n",
    "#print(timedelta(seconds=(end - start)))\n",
    "\n",
    "start = time()\n",
    "sliced_sequence(vinputs, {\"anterior\": vants, \"posterior\": vposts},\n",
    "                120, vpreds={\"all\": vpreds}, threshold=0.5,\n",
    "                title=\"Input, labels & predictions\")\n",
    "end = time()\n",
    "print(timedelta(seconds=(end - start)))"
   ]
  },
  {
   "cell_type": "code",
   "execution_count": null,
   "id": "6d7bbbd2-58fa-4747-ae1a-0690c5bb3a97",
   "metadata": {},
   "outputs": [],
   "source": [
    "start = time()\n",
    "#sliced_volume(vinputs[-1], title=\"Input\")\n",
    "end = time()\n",
    "#print(timedelta(seconds=(end - start)))\n",
    "\n",
    "start = time()\n",
    "#sliced_volume(vinputs[-1], vlabels={\"anterior\": vants[-1], \"posterior\": vposts[-1]},\n",
    "#              title=\"Input & labels\")\n",
    "end = time()\n",
    "#print(timedelta(seconds=(end - start)))\n",
    "\n",
    "start = time()\n",
    "#sliced_volume(vinputs[-1], vpreds={\"all\": vpreds[-1]},\n",
    "#              title=\"Input & predictions\")\n",
    "end = time()\n",
    "#print(timedelta(seconds=(end - start)))\n",
    "\n",
    "start = time()\n",
    "sliced_volume(vinputs[-1], vlabels={\"anterior\": vants[-1], \"posterior\": vposts[-1]},\n",
    "              vpreds={\"all\": vpreds[-1]},\n",
    "              title=\"Input, labels & predictions\")\n",
    "end = time()\n",
    "print(timedelta(seconds=(end - start)))"
   ]
  },
  {
   "cell_type": "code",
   "execution_count": null,
   "id": "1dd01333-f5d7-4f9b-b571-c371d6632e17",
   "metadata": {
    "tags": []
   },
   "outputs": [],
   "source": [
    "start = time()\n",
    "#animated_3d(vinputs, title=\"Input\")\n",
    "end = time()\n",
    "#print(timedelta(seconds=(end - start)))\n",
    "\n",
    "start = time()\n",
    "#animated_3d(vinputs, vlabels={\"anterior\": vants, \"posterior\": vposts},\n",
    "#            title=\"Input & labels\")\n",
    "end = time()\n",
    "#print(timedelta(seconds=(end - start)))\n",
    "\n",
    "start = time()\n",
    "#animated_3d(vinputs, vpreds={\"all\": vpreds},\n",
    "#            title=\"Input & predictions\")\n",
    "end = time()\n",
    "#print(timedelta(seconds=(end - start)))\n",
    "\n",
    "start = time()\n",
    "animated_3d(vinputs, vlabels={\"anterior\": vants, \"posterior\": vposts},\n",
    "            vpreds={\"all\": vpreds}, threshold=0.5,\n",
    "            filename=Path(\"all_in_4d.html\"),\n",
    "            title=\"Input, labels & predictions\")\n",
    "end = time()\n",
    "print(timedelta(seconds=(end - start)))"
   ]
  },
  {
   "cell_type": "markdown",
   "id": "2638520a-35a2-4daa-9b97-fd032a75380b",
   "metadata": {},
   "source": [
    "Glad to have done business with you."
   ]
  }
 ],
 "metadata": {
  "kernelspec": {
   "display_name": "Python 3 (ipykernel)",
   "language": "python",
   "name": "python3"
  },
  "language_info": {
   "codemirror_mode": {
    "name": "ipython",
    "version": 3
   },
   "file_extension": ".py",
   "mimetype": "text/x-python",
   "name": "python",
   "nbconvert_exporter": "python",
   "pygments_lexer": "ipython3",
   "version": "3.9.16"
  }
 },
 "nbformat": 4,
 "nbformat_minor": 5
}
